{
 "cells": [
  {
   "cell_type": "markdown",
   "metadata": {},
   "source": [
    "# Part I: Data Gathering and Preprocessing"
   ]
  },
  {
   "cell_type": "markdown",
   "metadata": {},
   "source": [
    "### Importing Libraries"
   ]
  },
  {
   "cell_type": "code",
   "execution_count": 1,
   "metadata": {},
   "outputs": [],
   "source": [
    "import numpy as np\n",
    "import pandas as pd\n",
    "import collections\n",
    "from sklearn.feature_extraction.text import CountVectorizer\n",
    "from sklearn.model_selection import train_test_split\n",
    "from sklearn.metrics import accuracy_score"
   ]
  },
  {
   "cell_type": "markdown",
   "metadata": {},
   "source": [
    "### Importing scikit-learn classifiers"
   ]
  },
  {
   "cell_type": "code",
   "execution_count": 2,
   "metadata": {},
   "outputs": [],
   "source": [
    "from sklearn.naive_bayes import MultinomialNB\n",
    "from sklearn.ensemble import RandomForestClassifier\n",
    "from sklearn.svm import SVC\n",
    "from sklearn.neighbors import KNeighborsClassifier\n",
    "from sklearn.tree import DecisionTreeClassifier\n"
   ]
  },
  {
   "cell_type": "markdown",
   "metadata": {},
   "source": [
    "### Importing Data"
   ]
  },
  {
   "cell_type": "code",
   "execution_count": 3,
   "metadata": {},
   "outputs": [
    {
     "data": {
      "text/html": [
       "<div>\n",
       "<style scoped>\n",
       "    .dataframe tbody tr th:only-of-type {\n",
       "        vertical-align: middle;\n",
       "    }\n",
       "\n",
       "    .dataframe tbody tr th {\n",
       "        vertical-align: top;\n",
       "    }\n",
       "\n",
       "    .dataframe thead th {\n",
       "        text-align: right;\n",
       "    }\n",
       "</style>\n",
       "<table border=\"1\" class=\"dataframe\">\n",
       "  <thead>\n",
       "    <tr style=\"text-align: right;\">\n",
       "      <th></th>\n",
       "      <th>video_id</th>\n",
       "      <th>trending_date</th>\n",
       "      <th>title</th>\n",
       "      <th>channel_title</th>\n",
       "      <th>category_id</th>\n",
       "      <th>publish_time</th>\n",
       "      <th>tags</th>\n",
       "      <th>views</th>\n",
       "      <th>likes</th>\n",
       "      <th>dislikes</th>\n",
       "      <th>comment_count</th>\n",
       "      <th>thumbnail_link</th>\n",
       "      <th>comments_disabled</th>\n",
       "      <th>ratings_disabled</th>\n",
       "      <th>video_error_or_removed</th>\n",
       "      <th>description</th>\n",
       "    </tr>\n",
       "  </thead>\n",
       "  <tbody>\n",
       "    <tr>\n",
       "      <th>0</th>\n",
       "      <td>2kyS6SvSYSE</td>\n",
       "      <td>17.14.11</td>\n",
       "      <td>WE WANT TO TALK ABOUT OUR MARRIAGE</td>\n",
       "      <td>CaseyNeistat</td>\n",
       "      <td>22</td>\n",
       "      <td>2017-11-13T17:13:01.000Z</td>\n",
       "      <td>SHANtell martin</td>\n",
       "      <td>748374</td>\n",
       "      <td>57527</td>\n",
       "      <td>2966</td>\n",
       "      <td>15954</td>\n",
       "      <td>https://i.ytimg.com/vi/2kyS6SvSYSE/default.jpg</td>\n",
       "      <td>False</td>\n",
       "      <td>False</td>\n",
       "      <td>False</td>\n",
       "      <td>SHANTELL'S CHANNEL - https://www.youtube.com/s...</td>\n",
       "    </tr>\n",
       "    <tr>\n",
       "      <th>1</th>\n",
       "      <td>1ZAPwfrtAFY</td>\n",
       "      <td>17.14.11</td>\n",
       "      <td>The Trump Presidency: Last Week Tonight with J...</td>\n",
       "      <td>LastWeekTonight</td>\n",
       "      <td>24</td>\n",
       "      <td>2017-11-13T07:30:00.000Z</td>\n",
       "      <td>last week tonight trump presidency|\"last week ...</td>\n",
       "      <td>2418783</td>\n",
       "      <td>97185</td>\n",
       "      <td>6146</td>\n",
       "      <td>12703</td>\n",
       "      <td>https://i.ytimg.com/vi/1ZAPwfrtAFY/default.jpg</td>\n",
       "      <td>False</td>\n",
       "      <td>False</td>\n",
       "      <td>False</td>\n",
       "      <td>One year after the presidential election, John...</td>\n",
       "    </tr>\n",
       "    <tr>\n",
       "      <th>2</th>\n",
       "      <td>5qpjK5DgCt4</td>\n",
       "      <td>17.14.11</td>\n",
       "      <td>Racist Superman | Rudy Mancuso, King Bach &amp; Le...</td>\n",
       "      <td>Rudy Mancuso</td>\n",
       "      <td>23</td>\n",
       "      <td>2017-11-12T19:05:24.000Z</td>\n",
       "      <td>racist superman|\"rudy\"|\"mancuso\"|\"king\"|\"bach\"...</td>\n",
       "      <td>3191434</td>\n",
       "      <td>146033</td>\n",
       "      <td>5339</td>\n",
       "      <td>8181</td>\n",
       "      <td>https://i.ytimg.com/vi/5qpjK5DgCt4/default.jpg</td>\n",
       "      <td>False</td>\n",
       "      <td>False</td>\n",
       "      <td>False</td>\n",
       "      <td>WATCH MY PREVIOUS VIDEO ▶ \\n\\nSUBSCRIBE ► http...</td>\n",
       "    </tr>\n",
       "    <tr>\n",
       "      <th>3</th>\n",
       "      <td>puqaWrEC7tY</td>\n",
       "      <td>17.14.11</td>\n",
       "      <td>Nickelback Lyrics: Real or Fake?</td>\n",
       "      <td>Good Mythical Morning</td>\n",
       "      <td>24</td>\n",
       "      <td>2017-11-13T11:00:04.000Z</td>\n",
       "      <td>rhett and link|\"gmm\"|\"good mythical morning\"|\"...</td>\n",
       "      <td>343168</td>\n",
       "      <td>10172</td>\n",
       "      <td>666</td>\n",
       "      <td>2146</td>\n",
       "      <td>https://i.ytimg.com/vi/puqaWrEC7tY/default.jpg</td>\n",
       "      <td>False</td>\n",
       "      <td>False</td>\n",
       "      <td>False</td>\n",
       "      <td>Today we find out if Link is a Nickelback amat...</td>\n",
       "    </tr>\n",
       "    <tr>\n",
       "      <th>4</th>\n",
       "      <td>d380meD0W0M</td>\n",
       "      <td>17.14.11</td>\n",
       "      <td>I Dare You: GOING BALD!?</td>\n",
       "      <td>nigahiga</td>\n",
       "      <td>24</td>\n",
       "      <td>2017-11-12T18:01:41.000Z</td>\n",
       "      <td>ryan|\"higa\"|\"higatv\"|\"nigahiga\"|\"i dare you\"|\"...</td>\n",
       "      <td>2095731</td>\n",
       "      <td>132235</td>\n",
       "      <td>1989</td>\n",
       "      <td>17518</td>\n",
       "      <td>https://i.ytimg.com/vi/d380meD0W0M/default.jpg</td>\n",
       "      <td>False</td>\n",
       "      <td>False</td>\n",
       "      <td>False</td>\n",
       "      <td>I know it's been a while since we did this sho...</td>\n",
       "    </tr>\n",
       "  </tbody>\n",
       "</table>\n",
       "</div>"
      ],
      "text/plain": [
       "      video_id trending_date  \\\n",
       "0  2kyS6SvSYSE      17.14.11   \n",
       "1  1ZAPwfrtAFY      17.14.11   \n",
       "2  5qpjK5DgCt4      17.14.11   \n",
       "3  puqaWrEC7tY      17.14.11   \n",
       "4  d380meD0W0M      17.14.11   \n",
       "\n",
       "                                               title          channel_title  \\\n",
       "0                 WE WANT TO TALK ABOUT OUR MARRIAGE           CaseyNeistat   \n",
       "1  The Trump Presidency: Last Week Tonight with J...        LastWeekTonight   \n",
       "2  Racist Superman | Rudy Mancuso, King Bach & Le...           Rudy Mancuso   \n",
       "3                   Nickelback Lyrics: Real or Fake?  Good Mythical Morning   \n",
       "4                           I Dare You: GOING BALD!?               nigahiga   \n",
       "\n",
       "   category_id              publish_time  \\\n",
       "0           22  2017-11-13T17:13:01.000Z   \n",
       "1           24  2017-11-13T07:30:00.000Z   \n",
       "2           23  2017-11-12T19:05:24.000Z   \n",
       "3           24  2017-11-13T11:00:04.000Z   \n",
       "4           24  2017-11-12T18:01:41.000Z   \n",
       "\n",
       "                                                tags    views   likes  \\\n",
       "0                                    SHANtell martin   748374   57527   \n",
       "1  last week tonight trump presidency|\"last week ...  2418783   97185   \n",
       "2  racist superman|\"rudy\"|\"mancuso\"|\"king\"|\"bach\"...  3191434  146033   \n",
       "3  rhett and link|\"gmm\"|\"good mythical morning\"|\"...   343168   10172   \n",
       "4  ryan|\"higa\"|\"higatv\"|\"nigahiga\"|\"i dare you\"|\"...  2095731  132235   \n",
       "\n",
       "   dislikes  comment_count                                  thumbnail_link  \\\n",
       "0      2966          15954  https://i.ytimg.com/vi/2kyS6SvSYSE/default.jpg   \n",
       "1      6146          12703  https://i.ytimg.com/vi/1ZAPwfrtAFY/default.jpg   \n",
       "2      5339           8181  https://i.ytimg.com/vi/5qpjK5DgCt4/default.jpg   \n",
       "3       666           2146  https://i.ytimg.com/vi/puqaWrEC7tY/default.jpg   \n",
       "4      1989          17518  https://i.ytimg.com/vi/d380meD0W0M/default.jpg   \n",
       "\n",
       "   comments_disabled  ratings_disabled  video_error_or_removed  \\\n",
       "0              False             False                   False   \n",
       "1              False             False                   False   \n",
       "2              False             False                   False   \n",
       "3              False             False                   False   \n",
       "4              False             False                   False   \n",
       "\n",
       "                                         description  \n",
       "0  SHANTELL'S CHANNEL - https://www.youtube.com/s...  \n",
       "1  One year after the presidential election, John...  \n",
       "2  WATCH MY PREVIOUS VIDEO ▶ \\n\\nSUBSCRIBE ► http...  \n",
       "3  Today we find out if Link is a Nickelback amat...  \n",
       "4  I know it's been a while since we did this sho...  "
      ]
     },
     "execution_count": 3,
     "metadata": {},
     "output_type": "execute_result"
    }
   ],
   "source": [
    "video = pd.read_csv(\"USvideos.csv\", header=0)\n",
    "video.head(5)"
   ]
  },
  {
   "cell_type": "markdown",
   "metadata": {},
   "source": [
    "### Deleting unused columns and renaming the remaining columns"
   ]
  },
  {
   "cell_type": "code",
   "execution_count": 4,
   "metadata": {},
   "outputs": [],
   "source": [
    "new_columns = ['title', 'category_id']\n",
    "new_video = video[new_columns]\n",
    "new_video.to_csv(\"USvideos.csv\", index=False)\n",
    "new_video = pd.read_csv(\"USvideos.csv\", header=0, names=['Title', 'Category_ID'])"
   ]
  },
  {
   "cell_type": "markdown",
   "metadata": {},
   "source": [
    "### Importing JSON file"
   ]
  },
  {
   "cell_type": "code",
   "execution_count": 5,
   "metadata": {},
   "outputs": [
    {
     "data": {
      "text/html": [
       "<div>\n",
       "<style scoped>\n",
       "    .dataframe tbody tr th:only-of-type {\n",
       "        vertical-align: middle;\n",
       "    }\n",
       "\n",
       "    .dataframe tbody tr th {\n",
       "        vertical-align: top;\n",
       "    }\n",
       "\n",
       "    .dataframe thead th {\n",
       "        text-align: right;\n",
       "    }\n",
       "</style>\n",
       "<table border=\"1\" class=\"dataframe\">\n",
       "  <thead>\n",
       "    <tr style=\"text-align: right;\">\n",
       "      <th></th>\n",
       "      <th>kind</th>\n",
       "      <th>etag</th>\n",
       "      <th>items</th>\n",
       "    </tr>\n",
       "  </thead>\n",
       "  <tbody>\n",
       "    <tr>\n",
       "      <th>0</th>\n",
       "      <td>youtube#videoCategoryListResponse</td>\n",
       "      <td>\"m2yskBQFythfE4irbTIeOgYYfBU/S730Ilt-Fi-emsQJv...</td>\n",
       "      <td>{'kind': 'youtube#videoCategory', 'etag': '\"m2...</td>\n",
       "    </tr>\n",
       "    <tr>\n",
       "      <th>1</th>\n",
       "      <td>youtube#videoCategoryListResponse</td>\n",
       "      <td>\"m2yskBQFythfE4irbTIeOgYYfBU/S730Ilt-Fi-emsQJv...</td>\n",
       "      <td>{'kind': 'youtube#videoCategory', 'etag': '\"m2...</td>\n",
       "    </tr>\n",
       "    <tr>\n",
       "      <th>2</th>\n",
       "      <td>youtube#videoCategoryListResponse</td>\n",
       "      <td>\"m2yskBQFythfE4irbTIeOgYYfBU/S730Ilt-Fi-emsQJv...</td>\n",
       "      <td>{'kind': 'youtube#videoCategory', 'etag': '\"m2...</td>\n",
       "    </tr>\n",
       "    <tr>\n",
       "      <th>3</th>\n",
       "      <td>youtube#videoCategoryListResponse</td>\n",
       "      <td>\"m2yskBQFythfE4irbTIeOgYYfBU/S730Ilt-Fi-emsQJv...</td>\n",
       "      <td>{'kind': 'youtube#videoCategory', 'etag': '\"m2...</td>\n",
       "    </tr>\n",
       "    <tr>\n",
       "      <th>4</th>\n",
       "      <td>youtube#videoCategoryListResponse</td>\n",
       "      <td>\"m2yskBQFythfE4irbTIeOgYYfBU/S730Ilt-Fi-emsQJv...</td>\n",
       "      <td>{'kind': 'youtube#videoCategory', 'etag': '\"m2...</td>\n",
       "    </tr>\n",
       "  </tbody>\n",
       "</table>\n",
       "</div>"
      ],
      "text/plain": [
       "                                kind  \\\n",
       "0  youtube#videoCategoryListResponse   \n",
       "1  youtube#videoCategoryListResponse   \n",
       "2  youtube#videoCategoryListResponse   \n",
       "3  youtube#videoCategoryListResponse   \n",
       "4  youtube#videoCategoryListResponse   \n",
       "\n",
       "                                                etag  \\\n",
       "0  \"m2yskBQFythfE4irbTIeOgYYfBU/S730Ilt-Fi-emsQJv...   \n",
       "1  \"m2yskBQFythfE4irbTIeOgYYfBU/S730Ilt-Fi-emsQJv...   \n",
       "2  \"m2yskBQFythfE4irbTIeOgYYfBU/S730Ilt-Fi-emsQJv...   \n",
       "3  \"m2yskBQFythfE4irbTIeOgYYfBU/S730Ilt-Fi-emsQJv...   \n",
       "4  \"m2yskBQFythfE4irbTIeOgYYfBU/S730Ilt-Fi-emsQJv...   \n",
       "\n",
       "                                               items  \n",
       "0  {'kind': 'youtube#videoCategory', 'etag': '\"m2...  \n",
       "1  {'kind': 'youtube#videoCategory', 'etag': '\"m2...  \n",
       "2  {'kind': 'youtube#videoCategory', 'etag': '\"m2...  \n",
       "3  {'kind': 'youtube#videoCategory', 'etag': '\"m2...  \n",
       "4  {'kind': 'youtube#videoCategory', 'etag': '\"m2...  "
      ]
     },
     "execution_count": 5,
     "metadata": {},
     "output_type": "execute_result"
    }
   ],
   "source": [
    "category_json = pd.read_json(\"US_category_id.json\")\n",
    "category_json.head(5)"
   ]
  },
  {
   "cell_type": "markdown",
   "metadata": {},
   "source": [
    "### Creating a list of Dictionaries with ID and Category label mapping"
   ]
  },
  {
   "cell_type": "code",
   "execution_count": 6,
   "metadata": {},
   "outputs": [
    {
     "data": {
      "text/plain": [
       "[{'id': '1', 'title': 'Film & Animation'},\n",
       " {'id': '2', 'title': 'Autos & Vehicles'},\n",
       " {'id': '10', 'title': 'Music'},\n",
       " {'id': '15', 'title': 'Pets & Animals'},\n",
       " {'id': '17', 'title': 'Sports'},\n",
       " {'id': '18', 'title': 'Short Movies'},\n",
       " {'id': '19', 'title': 'Travel & Events'},\n",
       " {'id': '20', 'title': 'Gaming'},\n",
       " {'id': '21', 'title': 'Videoblogging'},\n",
       " {'id': '22', 'title': 'People & Blogs'},\n",
       " {'id': '23', 'title': 'Comedy'},\n",
       " {'id': '24', 'title': 'Entertainment'},\n",
       " {'id': '25', 'title': 'News & Politics'},\n",
       " {'id': '26', 'title': 'Howto & Style'},\n",
       " {'id': '27', 'title': 'Education'},\n",
       " {'id': '28', 'title': 'Science & Technology'},\n",
       " {'id': '29', 'title': 'Nonprofits & Activism'},\n",
       " {'id': '30', 'title': 'Movies'},\n",
       " {'id': '31', 'title': 'Anime/Animation'},\n",
       " {'id': '32', 'title': 'Action/Adventure'},\n",
       " {'id': '33', 'title': 'Classics'},\n",
       " {'id': '34', 'title': 'Comedy'},\n",
       " {'id': '35', 'title': 'Documentary'},\n",
       " {'id': '36', 'title': 'Drama'},\n",
       " {'id': '37', 'title': 'Family'},\n",
       " {'id': '38', 'title': 'Foreign'},\n",
       " {'id': '39', 'title': 'Horror'},\n",
       " {'id': '40', 'title': 'Sci-Fi/Fantasy'},\n",
       " {'id': '41', 'title': 'Thriller'},\n",
       " {'id': '42', 'title': 'Shorts'},\n",
       " {'id': '43', 'title': 'Shows'},\n",
       " {'id': '44', 'title': 'Trailers'}]"
      ]
     },
     "execution_count": 6,
     "metadata": {},
     "output_type": "execute_result"
    }
   ],
   "source": [
    "category_dict = [{'id': item['id'], 'title': item['snippet']['title']} for item in category_json['items']]\n",
    "category_dict"
   ]
  },
  {
   "cell_type": "markdown",
   "metadata": {},
   "source": [
    "### Creating a DataFrame for the Dictionary"
   ]
  },
  {
   "cell_type": "code",
   "execution_count": 7,
   "metadata": {},
   "outputs": [
    {
     "data": {
      "text/html": [
       "<div>\n",
       "<style scoped>\n",
       "    .dataframe tbody tr th:only-of-type {\n",
       "        vertical-align: middle;\n",
       "    }\n",
       "\n",
       "    .dataframe tbody tr th {\n",
       "        vertical-align: top;\n",
       "    }\n",
       "\n",
       "    .dataframe thead th {\n",
       "        text-align: right;\n",
       "    }\n",
       "</style>\n",
       "<table border=\"1\" class=\"dataframe\">\n",
       "  <thead>\n",
       "    <tr style=\"text-align: right;\">\n",
       "      <th></th>\n",
       "      <th>Category_ID</th>\n",
       "      <th>Category</th>\n",
       "    </tr>\n",
       "  </thead>\n",
       "  <tbody>\n",
       "    <tr>\n",
       "      <th>0</th>\n",
       "      <td>1</td>\n",
       "      <td>Film &amp; Animation</td>\n",
       "    </tr>\n",
       "    <tr>\n",
       "      <th>1</th>\n",
       "      <td>2</td>\n",
       "      <td>Autos &amp; Vehicles</td>\n",
       "    </tr>\n",
       "    <tr>\n",
       "      <th>2</th>\n",
       "      <td>10</td>\n",
       "      <td>Music</td>\n",
       "    </tr>\n",
       "    <tr>\n",
       "      <th>3</th>\n",
       "      <td>15</td>\n",
       "      <td>Pets &amp; Animals</td>\n",
       "    </tr>\n",
       "    <tr>\n",
       "      <th>4</th>\n",
       "      <td>17</td>\n",
       "      <td>Sports</td>\n",
       "    </tr>\n",
       "  </tbody>\n",
       "</table>\n",
       "</div>"
      ],
      "text/plain": [
       "  Category_ID          Category\n",
       "0           1  Film & Animation\n",
       "1           2  Autos & Vehicles\n",
       "2          10             Music\n",
       "3          15    Pets & Animals\n",
       "4          17            Sports"
      ]
     },
     "execution_count": 7,
     "metadata": {},
     "output_type": "execute_result"
    }
   ],
   "source": [
    "category_df = pd.DataFrame(category_dict)\n",
    "categories = category_df.rename(index=str, columns = {\"id\":\"Category_ID\",\"title\":\"Category\"})\n",
    "categories.head(5)"
   ]
  },
  {
   "cell_type": "markdown",
   "metadata": {},
   "source": [
    "# Part II: Training"
   ]
  },
  {
   "cell_type": "markdown",
   "metadata": {},
   "source": [
    "### Splitting 'title' into string of words using CountVectorizer"
   ]
  },
  {
   "cell_type": "code",
   "execution_count": 8,
   "metadata": {},
   "outputs": [],
   "source": [
    "vector = CountVectorizer()\n",
    "counts = vector.fit_transform(new_video['Title'].values)"
   ]
  },
  {
   "cell_type": "markdown",
   "metadata": {},
   "source": [
    "### Using various classification models and targetting 'Category'"
   ]
  },
  {
   "cell_type": "code",
   "execution_count": 9,
   "metadata": {},
   "outputs": [],
   "source": [
    "NB_Model = MultinomialNB()\n",
    "RFC_Model = RandomForestClassifier()\n",
    "SVC_Model = SVC()\n",
    "KNC_Model = KNeighborsClassifier()\n",
    "DTC_Model = DecisionTreeClassifier()"
   ]
  },
  {
   "cell_type": "code",
   "execution_count": 10,
   "metadata": {},
   "outputs": [],
   "source": [
    "output = new_video['Category_ID'].values"
   ]
  },
  {
   "cell_type": "code",
   "execution_count": 11,
   "metadata": {},
   "outputs": [
    {
     "data": {
      "text/plain": [
       "MultinomialNB()"
      ]
     },
     "execution_count": 11,
     "metadata": {},
     "output_type": "execute_result"
    }
   ],
   "source": [
    "NB_Model.fit(counts,output)"
   ]
  },
  {
   "cell_type": "code",
   "execution_count": 12,
   "metadata": {},
   "outputs": [
    {
     "data": {
      "text/plain": [
       "RandomForestClassifier()"
      ]
     },
     "execution_count": 12,
     "metadata": {},
     "output_type": "execute_result"
    }
   ],
   "source": [
    "RFC_Model.fit(counts,output)"
   ]
  },
  {
   "cell_type": "code",
   "execution_count": 13,
   "metadata": {},
   "outputs": [
    {
     "data": {
      "text/plain": [
       "SVC()"
      ]
     },
     "execution_count": 13,
     "metadata": {},
     "output_type": "execute_result"
    }
   ],
   "source": [
    "SVC_Model.fit(counts,output)"
   ]
  },
  {
   "cell_type": "code",
   "execution_count": 14,
   "metadata": {},
   "outputs": [
    {
     "data": {
      "text/plain": [
       "KNeighborsClassifier()"
      ]
     },
     "execution_count": 14,
     "metadata": {},
     "output_type": "execute_result"
    }
   ],
   "source": [
    "KNC_Model.fit(counts,output)"
   ]
  },
  {
   "cell_type": "code",
   "execution_count": 15,
   "metadata": {},
   "outputs": [
    {
     "data": {
      "text/plain": [
       "DecisionTreeClassifier()"
      ]
     },
     "execution_count": 15,
     "metadata": {},
     "output_type": "execute_result"
    }
   ],
   "source": [
    "DTC_Model.fit(counts,output)"
   ]
  },
  {
   "cell_type": "markdown",
   "metadata": {},
   "source": [
    "### Checking the accuracy using 90/10 train/test split"
   ]
  },
  {
   "cell_type": "code",
   "execution_count": 16,
   "metadata": {},
   "outputs": [],
   "source": [
    "X = counts\n",
    "Y = output\n",
    "X_train, X_test, Y_train, Y_test = train_test_split(X, Y, test_size = .1)"
   ]
  },
  {
   "cell_type": "code",
   "execution_count": 17,
   "metadata": {},
   "outputs": [
    {
     "name": "stdout",
     "output_type": "stream",
     "text": [
      "The Naive Bayes Algorithm has an accuracy of 0.8989010989010989\n"
     ]
    }
   ],
   "source": [
    "NBtest = MultinomialNB().fit(X_train,Y_train)\n",
    "nb_predictions = NBtest.predict(X_test)\n",
    "acc_nb = NBtest.score(X_test, Y_test)\n",
    "print('The Naive Bayes Algorithm has an accuracy of', acc_nb)"
   ]
  },
  {
   "cell_type": "code",
   "execution_count": 18,
   "metadata": {},
   "outputs": [
    {
     "name": "stdout",
     "output_type": "stream",
     "text": [
      "The Random Forest Algorithm has an accuracy of 0.9868131868131869\n"
     ]
    }
   ],
   "source": [
    "RFCtest = RandomForestClassifier().fit(X_train,Y_train)\n",
    "rfc_predictions = RFCtest.predict(X_test)\n",
    "acc_rfc = RFCtest.score(X_test, Y_test)\n",
    "print('The Random Forest Algorithm has an accuracy of', acc_rfc)"
   ]
  },
  {
   "cell_type": "code",
   "execution_count": 19,
   "metadata": {},
   "outputs": [
    {
     "name": "stdout",
     "output_type": "stream",
     "text": [
      "The Support Vector Algorithm has an accuracy of 0.9843711843711843\n"
     ]
    }
   ],
   "source": [
    "SVCtest = SVC().fit(X_train,Y_train)\n",
    "svc_predictions = SVCtest.predict(X_test)\n",
    "acc_svc = SVCtest.score(X_test, Y_test)\n",
    "print('The Support Vector Algorithm has an accuracy of', acc_svc)"
   ]
  },
  {
   "cell_type": "code",
   "execution_count": 20,
   "metadata": {},
   "outputs": [
    {
     "name": "stdout",
     "output_type": "stream",
     "text": [
      "The K Neighbors Algorithm has an accuracy of 0.9443223443223443\n"
     ]
    }
   ],
   "source": [
    "KNCtest = KNeighborsClassifier().fit(X_train,Y_train)\n",
    "knc_predictions = KNCtest.predict(X_test)\n",
    "acc_knc = KNCtest.score(X_test, Y_test)\n",
    "print('The K Neighbors Algorithm has an accuracy of', acc_knc)"
   ]
  },
  {
   "cell_type": "code",
   "execution_count": 21,
   "metadata": {},
   "outputs": [
    {
     "name": "stdout",
     "output_type": "stream",
     "text": [
      "The Decision Tree Algorithm has an accuracy of 0.9863247863247864\n"
     ]
    }
   ],
   "source": [
    "DTCtest = DecisionTreeClassifier().fit(X_train,Y_train)\n",
    "dtc_predictions = DTCtest.predict(X_test)\n",
    "acc_dtc = DTCtest.score(X_test, Y_test)\n",
    "print('The Decision Tree Algorithm has an accuracy of', acc_dtc)"
   ]
  },
  {
   "cell_type": "markdown",
   "metadata": {},
   "source": [
    "# Part III: Test"
   ]
  },
  {
   "cell_type": "markdown",
   "metadata": {},
   "source": [
    "### Entering hypothetical titles to predict the category"
   ]
  },
  {
   "cell_type": "code",
   "execution_count": 22,
   "metadata": {},
   "outputs": [],
   "source": [
    "Titles = [\"Liverpool vs Barcelona football match highlights\"]"
   ]
  },
  {
   "cell_type": "markdown",
   "metadata": {},
   "source": [
    "### Inserting above titles into each classifier model"
   ]
  },
  {
   "cell_type": "code",
   "execution_count": 23,
   "metadata": {},
   "outputs": [],
   "source": [
    "Titles_counts = vector.transform(Titles)"
   ]
  },
  {
   "cell_type": "markdown",
   "metadata": {},
   "source": [
    "### Naive Bayes Model"
   ]
  },
  {
   "cell_type": "code",
   "execution_count": 24,
   "metadata": {},
   "outputs": [
    {
     "data": {
      "text/plain": [
       "array([17], dtype=int64)"
      ]
     },
     "execution_count": 24,
     "metadata": {},
     "output_type": "execute_result"
    }
   ],
   "source": [
    "PredictNB = NB_Model.predict(Titles_counts)\n",
    "PredictNB"
   ]
  },
  {
   "cell_type": "markdown",
   "metadata": {},
   "source": [
    "### Random Forest Model"
   ]
  },
  {
   "cell_type": "code",
   "execution_count": 25,
   "metadata": {},
   "outputs": [
    {
     "data": {
      "text/plain": [
       "array([17], dtype=int64)"
      ]
     },
     "execution_count": 25,
     "metadata": {},
     "output_type": "execute_result"
    }
   ],
   "source": [
    "PredictRFC = RFC_Model.predict(Titles_counts)\n",
    "PredictRFC"
   ]
  },
  {
   "cell_type": "markdown",
   "metadata": {},
   "source": [
    "### SVC Model"
   ]
  },
  {
   "cell_type": "code",
   "execution_count": 26,
   "metadata": {},
   "outputs": [
    {
     "data": {
      "text/plain": [
       "array([17], dtype=int64)"
      ]
     },
     "execution_count": 26,
     "metadata": {},
     "output_type": "execute_result"
    }
   ],
   "source": [
    "PredictSVC = SVC_Model.predict(Titles_counts)\n",
    "PredictSVC"
   ]
  },
  {
   "cell_type": "markdown",
   "metadata": {},
   "source": [
    "### K Neighbors Model"
   ]
  },
  {
   "cell_type": "code",
   "execution_count": 27,
   "metadata": {},
   "outputs": [
    {
     "data": {
      "text/plain": [
       "array([1], dtype=int64)"
      ]
     },
     "execution_count": 27,
     "metadata": {},
     "output_type": "execute_result"
    }
   ],
   "source": [
    "PredictKNC = KNC_Model.predict(Titles_counts)\n",
    "PredictKNC"
   ]
  },
  {
   "cell_type": "markdown",
   "metadata": {},
   "source": [
    "### Decision Tree Model"
   ]
  },
  {
   "cell_type": "code",
   "execution_count": 28,
   "metadata": {},
   "outputs": [
    {
     "data": {
      "text/plain": [
       "array([17], dtype=int64)"
      ]
     },
     "execution_count": 28,
     "metadata": {},
     "output_type": "execute_result"
    }
   ],
   "source": [
    "PredictDTC = DTC_Model.predict(Titles_counts)\n",
    "PredictDTC"
   ]
  },
  {
   "cell_type": "markdown",
   "metadata": {},
   "source": [
    "### Output will be an array of numbers. Iterate through the Category Dictionary (from JSON file) to find \"title\""
   ]
  },
  {
   "cell_type": "code",
   "execution_count": 29,
   "metadata": {},
   "outputs": [],
   "source": [
    "CategoryNamesListNB = []\n",
    "for Category_ID in PredictNB:\n",
    "    MatchingCategoriesNB = [x for x in category_dict if x[\"id\"] == str(Category_ID)]\n",
    "    if MatchingCategoriesNB:\n",
    "        CategoryNamesListNB.append(MatchingCategoriesNB[0][\"title\"])"
   ]
  },
  {
   "cell_type": "code",
   "execution_count": 30,
   "metadata": {},
   "outputs": [],
   "source": [
    "CategoryNamesListRFC = []\n",
    "for Category_ID in PredictRFC:\n",
    "    MatchingCategoriesRFC = [x for x in category_dict if x[\"id\"] == str(Category_ID)]\n",
    "    if MatchingCategoriesRFC:\n",
    "        CategoryNamesListRFC.append(MatchingCategoriesRFC[0][\"title\"])"
   ]
  },
  {
   "cell_type": "code",
   "execution_count": 31,
   "metadata": {},
   "outputs": [],
   "source": [
    "CategoryNamesListSVC = []\n",
    "for Category_ID in PredictSVC:\n",
    "    MatchingCategoriesSVC = [x for x in category_dict if x[\"id\"] == str(Category_ID)]\n",
    "    if MatchingCategoriesSVC:\n",
    "        CategoryNamesListSVC.append(MatchingCategoriesSVC[0][\"title\"])"
   ]
  },
  {
   "cell_type": "code",
   "execution_count": 32,
   "metadata": {},
   "outputs": [],
   "source": [
    "CategoryNamesListKNC = []\n",
    "for Category_ID in PredictKNC:\n",
    "    MatchingCategoriesKNC = [x for x in category_dict if x[\"id\"] == str(Category_ID)]\n",
    "    if MatchingCategoriesKNC:\n",
    "        CategoryNamesListKNC.append(MatchingCategoriesKNC[0][\"title\"])"
   ]
  },
  {
   "cell_type": "code",
   "execution_count": 33,
   "metadata": {},
   "outputs": [],
   "source": [
    "CategoryNamesListDTC = []\n",
    "for Category_ID in PredictDTC:\n",
    "    MatchingCategoriesDTC = [x for x in category_dict if x[\"id\"] == str(Category_ID)]\n",
    "    if MatchingCategoriesDTC:\n",
    "        CategoryNamesListDTC.append(MatchingCategoriesDTC[0][\"title\"])"
   ]
  },
  {
   "cell_type": "markdown",
   "metadata": {},
   "source": [
    "### Mapping these values to the Titles we want to Predict"
   ]
  },
  {
   "cell_type": "code",
   "execution_count": 34,
   "metadata": {},
   "outputs": [],
   "source": [
    "TitleDataFrameNB = []\n",
    "for i in range(0, len(Titles)):\n",
    "    TitleToCategoriesNB = {'Title': Titles[i],  'Category': CategoryNamesListNB[i]}\n",
    "    TitleDataFrameNB.append(TitleToCategoriesNB)"
   ]
  },
  {
   "cell_type": "code",
   "execution_count": 35,
   "metadata": {},
   "outputs": [],
   "source": [
    "TitleDataFrameRFC = []\n",
    "for i in range(0, len(Titles)):\n",
    "    TitleToCategoriesRFC = {'Title': Titles[i],  'Category': CategoryNamesListRFC[i]}\n",
    "    TitleDataFrameRFC.append(TitleToCategoriesRFC)"
   ]
  },
  {
   "cell_type": "code",
   "execution_count": 36,
   "metadata": {},
   "outputs": [],
   "source": [
    "TitleDataFrameSVC = []\n",
    "for i in range(0, len(Titles)):\n",
    "    TitleToCategoriesSVC = {'Title': Titles[i],  'Category': CategoryNamesListSVC[i]}\n",
    "    TitleDataFrameSVC.append(TitleToCategoriesSVC)"
   ]
  },
  {
   "cell_type": "code",
   "execution_count": 37,
   "metadata": {},
   "outputs": [],
   "source": [
    "TitleDataFrameKNC = []\n",
    "for i in range(0, len(Titles)):\n",
    "    TitleToCategoriesKNC = {'Title': Titles[i],  'Category': CategoryNamesListKNC[i]}\n",
    "    TitleDataFrameKNC.append(TitleToCategoriesKNC)"
   ]
  },
  {
   "cell_type": "code",
   "execution_count": 38,
   "metadata": {},
   "outputs": [],
   "source": [
    "TitleDataFrameDTC = []\n",
    "for i in range(0, len(Titles)):\n",
    "    TitleToCategoriesDTC = {'Title': Titles[i],  'Category': CategoryNamesListDTC[i]}\n",
    "    TitleDataFrameDTC.append(TitleToCategoriesDTC)"
   ]
  },
  {
   "cell_type": "markdown",
   "metadata": {},
   "source": [
    "### Converting the resulting Dictionary to a Data Frame"
   ]
  },
  {
   "cell_type": "code",
   "execution_count": 39,
   "metadata": {},
   "outputs": [],
   "source": [
    "PredictDFnb = pd.DataFrame(PredictNB)\n",
    "TitleDFnb = pd.DataFrame(TitleDataFrameNB)\n",
    "PreFinalDFnb = pd.concat([PredictDFnb, TitleDFnb], axis=1)\n",
    "PreFinalDFnb.columns = (['Categ_ID', 'Predicted Category', 'Hypothetical Video Title'])\n",
    "FinalDFnb = PreFinalDFnb.drop(['Categ_ID'],axis=1)\n",
    "colsNB = FinalDFnb.columns.tolist()\n",
    "colsNB = colsNB[-1:] + colsNB[:-1]\n",
    "FinalDFnb= FinalDFnb[colsNB]"
   ]
  },
  {
   "cell_type": "code",
   "execution_count": 40,
   "metadata": {},
   "outputs": [],
   "source": [
    "PredictDFrfc = pd.DataFrame(PredictRFC)\n",
    "TitleDFrfc = pd.DataFrame(TitleDataFrameRFC)\n",
    "PreFinalDFrfc = pd.concat([PredictDFrfc, TitleDFrfc], axis=1)\n",
    "PreFinalDFrfc.columns = (['Categ_ID', 'Predicted Category', 'Hypothetical Video Title'])\n",
    "FinalDFrfc = PreFinalDFrfc.drop(['Categ_ID'],axis=1)\n",
    "colsRFC = FinalDFrfc.columns.tolist()\n",
    "colsRFC = colsRFC[-1:] + colsRFC[:-1]\n",
    "FinalDFrfc= FinalDFrfc[colsRFC]"
   ]
  },
  {
   "cell_type": "code",
   "execution_count": 41,
   "metadata": {},
   "outputs": [],
   "source": [
    "PredictDFsvc = pd.DataFrame(PredictSVC)\n",
    "TitleDFsvc = pd.DataFrame(TitleDataFrameSVC)\n",
    "PreFinalDFsvc = pd.concat([PredictDFsvc, TitleDFsvc], axis=1)\n",
    "PreFinalDFsvc.columns = (['Categ_ID', 'Predicted Category', 'Hypothetical Video Title'])\n",
    "FinalDFsvc = PreFinalDFsvc.drop(['Categ_ID'],axis=1)\n",
    "colsSVC = FinalDFsvc.columns.tolist()\n",
    "colsSVC = colsSVC[-1:] + colsSVC[:-1]\n",
    "FinalDFsvc= FinalDFsvc[colsSVC]"
   ]
  },
  {
   "cell_type": "code",
   "execution_count": 42,
   "metadata": {},
   "outputs": [],
   "source": [
    "PredictDFknc = pd.DataFrame(PredictKNC)\n",
    "TitleDFknc = pd.DataFrame(TitleDataFrameKNC)\n",
    "PreFinalDFknc = pd.concat([PredictDFknc, TitleDFknc], axis=1)\n",
    "PreFinalDFknc.columns = (['Categ_ID', 'Predicted Category', 'Hypothetical Video Title'])\n",
    "FinalDFknc = PreFinalDFknc.drop(['Categ_ID'],axis=1)\n",
    "colsKNC = FinalDFknc.columns.tolist()\n",
    "colsKNC = colsKNC[-1:] + colsKNC[:-1]\n",
    "FinalDFknc= FinalDFknc[colsKNC]"
   ]
  },
  {
   "cell_type": "code",
   "execution_count": 43,
   "metadata": {},
   "outputs": [],
   "source": [
    "PredictDFdtc = pd.DataFrame(PredictDTC)\n",
    "TitleDFdtc = pd.DataFrame(TitleDataFrameDTC)\n",
    "PreFinalDFdtc = pd.concat([PredictDFdtc, TitleDFdtc], axis=1)\n",
    "PreFinalDFdtc.columns = (['Categ_ID', 'Predicted Category', 'Hypothetical Video Title'])\n",
    "FinalDFdtc = PreFinalDFdtc.drop(['Categ_ID'],axis=1)\n",
    "colsDTC = FinalDFdtc.columns.tolist()\n",
    "colsDTC = colsDTC[-1:] + colsDTC[:-1]\n",
    "FinalDFdtc= FinalDFdtc[colsDTC]"
   ]
  },
  {
   "cell_type": "markdown",
   "metadata": {},
   "source": [
    "### Viewing the Final Prediction Results"
   ]
  },
  {
   "cell_type": "markdown",
   "metadata": {},
   "source": [
    "# Demo"
   ]
  },
  {
   "cell_type": "code",
   "execution_count": 44,
   "metadata": {},
   "outputs": [],
   "source": [
    "Titles = [\"Liverpool vs Barcelona football match highlights\"]"
   ]
  },
  {
   "cell_type": "code",
   "execution_count": 45,
   "metadata": {},
   "outputs": [
    {
     "data": {
      "text/html": [
       "<div>\n",
       "<style scoped>\n",
       "    .dataframe tbody tr th:only-of-type {\n",
       "        vertical-align: middle;\n",
       "    }\n",
       "\n",
       "    .dataframe tbody tr th {\n",
       "        vertical-align: top;\n",
       "    }\n",
       "\n",
       "    .dataframe thead th {\n",
       "        text-align: right;\n",
       "    }\n",
       "</style>\n",
       "<table border=\"1\" class=\"dataframe\">\n",
       "  <thead>\n",
       "    <tr style=\"text-align: right;\">\n",
       "      <th></th>\n",
       "      <th>Hypothetical Video Title</th>\n",
       "      <th>Predicted Category</th>\n",
       "    </tr>\n",
       "  </thead>\n",
       "  <tbody>\n",
       "    <tr>\n",
       "      <th>0</th>\n",
       "      <td>Sports</td>\n",
       "      <td>Liverpool vs Barcelona football match highlights</td>\n",
       "    </tr>\n",
       "  </tbody>\n",
       "</table>\n",
       "</div>"
      ],
      "text/plain": [
       "  Hypothetical Video Title                                Predicted Category\n",
       "0                   Sports  Liverpool vs Barcelona football match highlights"
      ]
     },
     "execution_count": 45,
     "metadata": {},
     "output_type": "execute_result"
    }
   ],
   "source": [
    "Titles_counts = vector.transform(Titles)\n",
    "PredictDTC = DTC_Model.predict(Titles_counts)\n",
    "\n",
    "CategoryNamesListDTC = []\n",
    "for Category_ID in PredictDTC:\n",
    "    MatchingCategoriesDTC = [x for x in category_dict if x[\"id\"] == str(Category_ID)]\n",
    "    if MatchingCategoriesDTC:\n",
    "        CategoryNamesListDTC.append(MatchingCategoriesDTC[0][\"title\"])\n",
    "\n",
    "TitleDataFrameDTC = []\n",
    "for i in range(0, len(Titles)):\n",
    "    TitleToCategoriesDTC = {'Title': Titles[i],  'Category': CategoryNamesListDTC[i]}\n",
    "    TitleDataFrameDTC.append(TitleToCategoriesDTC)\n",
    "    \n",
    "PredictDFdtc = pd.DataFrame(PredictDTC)\n",
    "TitleDFdtc = pd.DataFrame(TitleDataFrameDTC)\n",
    "PreFinalDFdtc = pd.concat([PredictDFdtc, TitleDFdtc], axis=1)\n",
    "PreFinalDFdtc.columns = (['Categ_ID', 'Predicted Category', 'Hypothetical Video Title'])\n",
    "FinalDFdtc = PreFinalDFdtc.drop(['Categ_ID'],axis=1)\n",
    "colsDTC = FinalDFdtc.columns.tolist()\n",
    "colsDTC = colsDTC[-1:] + colsDTC[:-1]\n",
    "FinalDFdtc= FinalDFdtc[colsDTC]\n",
    "\n",
    "# Decision Trees\n",
    "FinalDFdtc"
   ]
  },
  {
   "cell_type": "code",
   "execution_count": null,
   "metadata": {},
   "outputs": [],
   "source": []
  }
 ],
 "metadata": {
  "kernelspec": {
   "display_name": "Python 3 (ipykernel)",
   "language": "python",
   "name": "python3"
  },
  "language_info": {
   "codemirror_mode": {
    "name": "ipython",
    "version": 3
   },
   "file_extension": ".py",
   "mimetype": "text/x-python",
   "name": "python",
   "nbconvert_exporter": "python",
   "pygments_lexer": "ipython3",
   "version": "3.9.12"
  }
 },
 "nbformat": 4,
 "nbformat_minor": 2
}
